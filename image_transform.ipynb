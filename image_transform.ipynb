{
 "cells": [
  {
   "cell_type": "markdown",
   "metadata": {},
   "source": [
    "# 이미지 변환"
   ]
  },
  {
   "cell_type": "code",
   "execution_count": 1,
   "metadata": {},
   "outputs": [],
   "source": [
    "import pandas as pd\n",
    "import numpy as np\n",
    "from glob import glob\n",
    "import matplotlib.pyplot as plt\n",
    "import os\n",
    "from tqdm import tqdm\n",
    "from pyts.image import GramianAngularField, MarkovTransitionField"
   ]
  },
  {
   "cell_type": "markdown",
   "metadata": {},
   "source": [
    "## 1. 파일 불러오기"
   ]
  },
  {
   "cell_type": "code",
   "execution_count": 13,
   "metadata": {},
   "outputs": [],
   "source": [
    "window_size = 5\n",
    "overlap = 0\n",
    "sfreq = 256\n",
    "image_size = 1\n",
    "data_dir = '05_70hz'"
   ]
  },
  {
   "cell_type": "code",
   "execution_count": 30,
   "metadata": {},
   "outputs": [],
   "source": [
    "gaf_save_dir = f'{data_dir}/GAF/19ch_GAF_{window_size}s_{overlap}s_ol'\n",
    "mtf_save_dir = f'{data_dir}/MTF/19ch_MTF_{window_size}s_{overlap}s_ol'\n",
    "scalo_save_dir = f'{data_dir}_100uV_reject2/scalogram/19ch_scalogram_{window_size}s_{overlap}s_ol'"
   ]
  },
  {
   "cell_type": "code",
   "execution_count": 31,
   "metadata": {},
   "outputs": [
    {
     "data": {
      "text/plain": [
       "['../../data/05_70hz/H S1 EC.csv',\n",
       " '../../data/05_70hz/H S10 EC.csv',\n",
       " '../../data/05_70hz/H S11 EC.csv',\n",
       " '../../data/05_70hz/H S13 EC.csv',\n",
       " '../../data/05_70hz/H S14 EC.csv']"
      ]
     },
     "execution_count": 31,
     "metadata": {},
     "output_type": "execute_result"
    }
   ],
   "source": [
    "filepath = f'../../data/{data_dir}'\n",
    "\n",
    "filenames = glob(f'{filepath}/*.csv')\n",
    "filenames.sort()\n",
    "filenames[:5]"
   ]
  },
  {
   "cell_type": "code",
   "execution_count": 32,
   "metadata": {},
   "outputs": [],
   "source": [
    "raw_df_dict = {}\n",
    "for file in filenames:\n",
    "    df = pd.read_csv(file, index_col=0)\n",
    "    file_modify = file.split('/')[-1][:-4] # 파일 이름만 추출\n",
    "    raw_df_dict[file_modify] = df.drop(columns=['time', 'A2'])"
   ]
  },
  {
   "cell_type": "markdown",
   "metadata": {},
   "source": [
    "### segmentation 함수"
   ]
  },
  {
   "cell_type": "code",
   "execution_count": 33,
   "metadata": {},
   "outputs": [],
   "source": [
    "# 슬라이딩 윈도우 함수 정의\n",
    "# 정확하게 떨어지지 않아 끝에 남는 부분은 버려짐\n",
    "def sliding_window(df, window_size, overlap):\n",
    "    step = window_size - overlap\n",
    "    windows = [df.iloc[i:i + window_size] for i in range(0, len(df) - window_size + 1, step)]\n",
    "    return windows"
   ]
  },
  {
   "cell_type": "markdown",
   "metadata": {},
   "source": [
    "## GAF 저장"
   ]
  },
  {
   "cell_type": "markdown",
   "metadata": {},
   "source": [
    "### epoch로 나누어진 데이터 저장"
   ]
  },
  {
   "cell_type": "code",
   "execution_count": 19,
   "metadata": {},
   "outputs": [
    {
     "name": "stderr",
     "output_type": "stream",
     "text": [
      "전체 진행률:   1%|          | 1/119 [00:50<1:39:33, 50.63s/it]"
     ]
    },
    {
     "name": "stdout",
     "output_type": "stream",
     "text": [
      "H S1 EC 처리 완료\n"
     ]
    },
    {
     "name": "stderr",
     "output_type": "stream",
     "text": [
      "전체 진행률:   2%|▏         | 2/119 [01:04<56:43, 29.09s/it]  "
     ]
    },
    {
     "name": "stdout",
     "output_type": "stream",
     "text": [
      "H S1 EO 처리 완료\n"
     ]
    },
    {
     "name": "stderr",
     "output_type": "stream",
     "text": [
      "전체 진행률:   3%|▎         | 3/119 [01:13<38:19, 19.82s/it]"
     ]
    },
    {
     "name": "stdout",
     "output_type": "stream",
     "text": [
      "H S10 EC 처리 완료\n",
      "H S10 EO 처리 완료\n",
      "H S11 EC 처리 완료\n",
      "H S11 EO 처리 완료\n",
      "H S12 EO 처리 완료\n",
      "H S13 EC 처리 완료\n",
      "H S13 EO 처리 완료\n",
      "H S14 EC 처리 완료\n",
      "H S14 EO 처리 완료\n",
      "H S15 EC 처리 완료\n",
      "H S15 EO 처리 완료\n",
      "H S16 EC 처리 완료\n",
      "H S16 EO 처리 완료\n"
     ]
    },
    {
     "name": "stderr",
     "output_type": "stream",
     "text": [
      "전체 진행률:  13%|█▎        | 16/119 [01:33<05:58,  3.48s/it]"
     ]
    },
    {
     "name": "stdout",
     "output_type": "stream",
     "text": [
      "H S17 EC 처리 완료\n"
     ]
    },
    {
     "name": "stderr",
     "output_type": "stream",
     "text": [
      "전체 진행률:  14%|█▍        | 17/119 [01:41<06:31,  3.84s/it]"
     ]
    },
    {
     "name": "stdout",
     "output_type": "stream",
     "text": [
      "H S17 EO 처리 완료\n"
     ]
    },
    {
     "name": "stderr",
     "output_type": "stream",
     "text": [
      "전체 진행률:  15%|█▌        | 18/119 [01:51<07:38,  4.54s/it]"
     ]
    },
    {
     "name": "stdout",
     "output_type": "stream",
     "text": [
      "H S18 EO 처리 완료\n"
     ]
    },
    {
     "name": "stderr",
     "output_type": "stream",
     "text": [
      "전체 진행률:  16%|█▌        | 19/119 [01:53<07:06,  4.27s/it]"
     ]
    },
    {
     "name": "stdout",
     "output_type": "stream",
     "text": [
      "H S19 EC 처리 완료\n"
     ]
    },
    {
     "name": "stderr",
     "output_type": "stream",
     "text": [
      "전체 진행률:  17%|█▋        | 20/119 [02:00<07:50,  4.76s/it]"
     ]
    },
    {
     "name": "stdout",
     "output_type": "stream",
     "text": [
      "H S19 EO 처리 완료\n"
     ]
    },
    {
     "name": "stderr",
     "output_type": "stream",
     "text": [
      "전체 진행률:  18%|█▊        | 21/119 [02:02<06:42,  4.11s/it]"
     ]
    },
    {
     "name": "stdout",
     "output_type": "stream",
     "text": [
      "H S2 EC 처리 완료\n",
      "H S2 EO 처리 완료\n"
     ]
    },
    {
     "name": "stderr",
     "output_type": "stream",
     "text": [
      "전체 진행률:  19%|█▉        | 23/119 [02:08<06:01,  3.76s/it]"
     ]
    },
    {
     "name": "stdout",
     "output_type": "stream",
     "text": [
      "H S20 EC 처리 완료\n",
      "H S20 EO 처리 완료\n",
      "H S21 EC 처리 완료\n",
      "H S21 EO 처리 완료\n",
      "H S22 EC 처리 완료\n",
      "H S22 EO 처리 완료\n",
      "H S23 EC 처리 완료\n"
     ]
    },
    {
     "name": "stderr",
     "output_type": "stream",
     "text": [
      "전체 진행률:  25%|██▌       | 30/119 [02:11<02:23,  1.62s/it]"
     ]
    },
    {
     "name": "stdout",
     "output_type": "stream",
     "text": [
      "H S23 EO 처리 완료\n"
     ]
    },
    {
     "name": "stderr",
     "output_type": "stream",
     "text": [
      "전체 진행률:  26%|██▌       | 31/119 [02:28<05:02,  3.44s/it]"
     ]
    },
    {
     "name": "stdout",
     "output_type": "stream",
     "text": [
      "H S24 EC 처리 완료\n"
     ]
    },
    {
     "name": "stderr",
     "output_type": "stream",
     "text": [
      "전체 진행률:  27%|██▋       | 32/119 [02:35<05:35,  3.86s/it]"
     ]
    },
    {
     "name": "stdout",
     "output_type": "stream",
     "text": [
      "H S24 EO 처리 완료\n"
     ]
    },
    {
     "name": "stderr",
     "output_type": "stream",
     "text": [
      "전체 진행률:  28%|██▊       | 33/119 [02:38<05:16,  3.68s/it]"
     ]
    },
    {
     "name": "stdout",
     "output_type": "stream",
     "text": [
      "H S25 EC 처리 완료\n",
      "H S26 EC 처리 완료\n"
     ]
    },
    {
     "name": "stderr",
     "output_type": "stream",
     "text": [
      "전체 진행률:  29%|██▉       | 35/119 [02:52<06:39,  4.76s/it]"
     ]
    },
    {
     "name": "stdout",
     "output_type": "stream",
     "text": [
      "H S26 EO 처리 완료\n",
      "H S27 EC 처리 완료\n",
      "H S27 EO 처리 완료\n"
     ]
    },
    {
     "name": "stderr",
     "output_type": "stream",
     "text": [
      "전체 진행률:  32%|███▏      | 38/119 [02:56<04:40,  3.47s/it]"
     ]
    },
    {
     "name": "stdout",
     "output_type": "stream",
     "text": [
      "H S28 EC 처리 완료\n",
      "H S28 EO 처리 완료\n"
     ]
    },
    {
     "name": "stderr",
     "output_type": "stream",
     "text": [
      "전체 진행률:  34%|███▍      | 41/119 [03:00<03:11,  2.46s/it]"
     ]
    },
    {
     "name": "stdout",
     "output_type": "stream",
     "text": [
      "H S29 EC 처리 완료\n",
      "H S29 EO 처리 완료\n",
      "H S3 EC 처리 완료\n"
     ]
    },
    {
     "name": "stderr",
     "output_type": "stream",
     "text": [
      "전체 진행률:  36%|███▌      | 43/119 [03:01<02:28,  1.95s/it]"
     ]
    },
    {
     "name": "stdout",
     "output_type": "stream",
     "text": [
      "H S3 EO 처리 완료\n"
     ]
    },
    {
     "name": "stderr",
     "output_type": "stream",
     "text": [
      "전체 진행률:  37%|███▋      | 44/119 [03:03<02:21,  1.89s/it]"
     ]
    },
    {
     "name": "stdout",
     "output_type": "stream",
     "text": [
      "H S30 EC 처리 완료\n"
     ]
    },
    {
     "name": "stderr",
     "output_type": "stream",
     "text": [
      "전체 진행률:  38%|███▊      | 45/119 [03:05<02:15,  1.83s/it]"
     ]
    },
    {
     "name": "stdout",
     "output_type": "stream",
     "text": [
      "H S30 EO 처리 완료\n"
     ]
    },
    {
     "name": "stderr",
     "output_type": "stream",
     "text": [
      "전체 진행률:  39%|███▊      | 46/119 [03:22<06:29,  5.33s/it]"
     ]
    },
    {
     "name": "stdout",
     "output_type": "stream",
     "text": [
      "H S4 EC 처리 완료\n"
     ]
    },
    {
     "name": "stderr",
     "output_type": "stream",
     "text": [
      "전체 진행률:  39%|███▉      | 47/119 [03:25<05:57,  4.96s/it]"
     ]
    },
    {
     "name": "stdout",
     "output_type": "stream",
     "text": [
      "H S4 EO 처리 완료\n"
     ]
    },
    {
     "name": "stderr",
     "output_type": "stream",
     "text": [
      "전체 진행률:  40%|████      | 48/119 [03:32<06:31,  5.51s/it]"
     ]
    },
    {
     "name": "stdout",
     "output_type": "stream",
     "text": [
      "H S5 EC 처리 완료\n"
     ]
    },
    {
     "name": "stderr",
     "output_type": "stream",
     "text": [
      "전체 진행률:  41%|████      | 49/119 [03:34<05:18,  4.55s/it]"
     ]
    },
    {
     "name": "stdout",
     "output_type": "stream",
     "text": [
      "H S5 EO 처리 완료\n"
     ]
    },
    {
     "name": "stderr",
     "output_type": "stream",
     "text": [
      "전체 진행률:  42%|████▏     | 50/119 [03:37<04:45,  4.14s/it]"
     ]
    },
    {
     "name": "stdout",
     "output_type": "stream",
     "text": [
      "H S6 EC 처리 완료\n"
     ]
    },
    {
     "name": "stderr",
     "output_type": "stream",
     "text": [
      "전체 진행률:  43%|████▎     | 51/119 [03:44<05:28,  4.83s/it]"
     ]
    },
    {
     "name": "stdout",
     "output_type": "stream",
     "text": [
      "H S6 EO 처리 완료\n"
     ]
    },
    {
     "name": "stderr",
     "output_type": "stream",
     "text": [
      "전체 진행률:  44%|████▎     | 52/119 [03:49<05:34,  5.00s/it]"
     ]
    },
    {
     "name": "stdout",
     "output_type": "stream",
     "text": [
      "H S7 EC 처리 완료\n",
      "H S7 EO 처리 완료\n",
      "H S8 EC 처리 완료\n"
     ]
    },
    {
     "name": "stderr",
     "output_type": "stream",
     "text": [
      "전체 진행률:  46%|████▌     | 55/119 [03:53<03:01,  2.84s/it]"
     ]
    },
    {
     "name": "stdout",
     "output_type": "stream",
     "text": [
      "H S8 EO 처리 완료\n"
     ]
    },
    {
     "name": "stderr",
     "output_type": "stream",
     "text": [
      "전체 진행률:  47%|████▋     | 56/119 [03:57<03:14,  3.09s/it]"
     ]
    },
    {
     "name": "stdout",
     "output_type": "stream",
     "text": [
      "H S9 EC 처리 완료\n",
      "H S9 EO 처리 완료\n",
      "MDD S1 EC 처리 완료\n",
      "MDD S1 EO 처리 완료\n"
     ]
    },
    {
     "name": "stderr",
     "output_type": "stream",
     "text": [
      "전체 진행률:  50%|█████     | 60/119 [03:59<01:41,  1.73s/it]"
     ]
    },
    {
     "name": "stdout",
     "output_type": "stream",
     "text": [
      "MDD S10 EC 처리 완료\n"
     ]
    },
    {
     "name": "stderr",
     "output_type": "stream",
     "text": [
      "전체 진행률:  51%|█████▏    | 61/119 [04:12<03:27,  3.58s/it]"
     ]
    },
    {
     "name": "stdout",
     "output_type": "stream",
     "text": [
      "MDD S10 EO 처리 완료\n"
     ]
    },
    {
     "name": "stderr",
     "output_type": "stream",
     "text": [
      "전체 진행률:  52%|█████▏    | 62/119 [04:21<04:24,  4.64s/it]"
     ]
    },
    {
     "name": "stdout",
     "output_type": "stream",
     "text": [
      "MDD S11 EC 처리 완료\n"
     ]
    },
    {
     "name": "stderr",
     "output_type": "stream",
     "text": [
      "전체 진행률:  53%|█████▎    | 63/119 [04:26<04:20,  4.65s/it]"
     ]
    },
    {
     "name": "stdout",
     "output_type": "stream",
     "text": [
      "MDD S11 EO 처리 완료\n",
      "MDD S12 EO 처리 완료\n"
     ]
    },
    {
     "name": "stderr",
     "output_type": "stream",
     "text": [
      "전체 진행률:  55%|█████▍    | 65/119 [04:28<02:53,  3.21s/it]"
     ]
    },
    {
     "name": "stdout",
     "output_type": "stream",
     "text": [
      "MDD S13 EC 처리 완료\n"
     ]
    },
    {
     "name": "stderr",
     "output_type": "stream",
     "text": [
      "전체 진행률:  55%|█████▌    | 66/119 [04:37<03:53,  4.40s/it]"
     ]
    },
    {
     "name": "stdout",
     "output_type": "stream",
     "text": [
      "MDD S13 EO 처리 완료\n"
     ]
    },
    {
     "name": "stderr",
     "output_type": "stream",
     "text": [
      "전체 진행률:  56%|█████▋    | 67/119 [04:43<04:09,  4.79s/it]"
     ]
    },
    {
     "name": "stdout",
     "output_type": "stream",
     "text": [
      "MDD S14 EC 처리 완료\n"
     ]
    },
    {
     "name": "stderr",
     "output_type": "stream",
     "text": [
      "전체 진행률:  57%|█████▋    | 68/119 [04:45<03:26,  4.06s/it]"
     ]
    },
    {
     "name": "stdout",
     "output_type": "stream",
     "text": [
      "MDD S14 EO 처리 완료\n",
      "MDD S15 EC 처리 완료\n",
      "MDD S15 EO 처리 완료\n"
     ]
    },
    {
     "name": "stderr",
     "output_type": "stream",
     "text": [
      "전체 진행률:  60%|█████▉    | 71/119 [04:48<01:59,  2.50s/it]"
     ]
    },
    {
     "name": "stdout",
     "output_type": "stream",
     "text": [
      "MDD S16 EO 처리 완료\n"
     ]
    },
    {
     "name": "stderr",
     "output_type": "stream",
     "text": [
      "전체 진행률:  61%|██████    | 72/119 [04:50<01:54,  2.45s/it]"
     ]
    },
    {
     "name": "stdout",
     "output_type": "stream",
     "text": [
      "MDD S17 EC 처리 완료\n"
     ]
    },
    {
     "name": "stderr",
     "output_type": "stream",
     "text": [
      "전체 진행률:  61%|██████▏   | 73/119 [04:52<01:46,  2.32s/it]"
     ]
    },
    {
     "name": "stdout",
     "output_type": "stream",
     "text": [
      "MDD S17 EO 처리 완료\n"
     ]
    },
    {
     "name": "stderr",
     "output_type": "stream",
     "text": [
      "전체 진행률:  62%|██████▏   | 74/119 [04:54<01:41,  2.26s/it]"
     ]
    },
    {
     "name": "stdout",
     "output_type": "stream",
     "text": [
      "MDD S18 EC 처리 완료\n",
      "MDD S18 EO 처리 완료\n"
     ]
    },
    {
     "name": "stderr",
     "output_type": "stream",
     "text": [
      "전체 진행률:  64%|██████▍   | 76/119 [05:02<02:13,  3.09s/it]"
     ]
    },
    {
     "name": "stdout",
     "output_type": "stream",
     "text": [
      "MDD S19 EC 처리 완료\n"
     ]
    },
    {
     "name": "stderr",
     "output_type": "stream",
     "text": [
      "전체 진행률:  65%|██████▍   | 77/119 [05:06<02:18,  3.30s/it]"
     ]
    },
    {
     "name": "stdout",
     "output_type": "stream",
     "text": [
      "MDD S19 EO 처리 완료\n"
     ]
    },
    {
     "name": "stderr",
     "output_type": "stream",
     "text": [
      "전체 진행률:  66%|██████▌   | 78/119 [05:16<03:16,  4.79s/it]"
     ]
    },
    {
     "name": "stdout",
     "output_type": "stream",
     "text": [
      "MDD S2 EC 처리 완료\n"
     ]
    },
    {
     "name": "stderr",
     "output_type": "stream",
     "text": [
      "전체 진행률:  66%|██████▋   | 79/119 [05:20<02:59,  4.50s/it]"
     ]
    },
    {
     "name": "stdout",
     "output_type": "stream",
     "text": [
      "MDD S2 EO 처리 완료\n",
      "MDD S20 EC 처리 완료\n"
     ]
    },
    {
     "name": "stderr",
     "output_type": "stream",
     "text": [
      "전체 진행률:  68%|██████▊   | 81/119 [05:32<03:15,  5.14s/it]"
     ]
    },
    {
     "name": "stdout",
     "output_type": "stream",
     "text": [
      "MDD S20 EO 처리 완료\n"
     ]
    },
    {
     "name": "stderr",
     "output_type": "stream",
     "text": [
      "전체 진행률:  69%|██████▉   | 82/119 [05:37<03:09,  5.12s/it]"
     ]
    },
    {
     "name": "stdout",
     "output_type": "stream",
     "text": [
      "MDD S21 EC 처리 완료\n"
     ]
    },
    {
     "name": "stderr",
     "output_type": "stream",
     "text": [
      "전체 진행률:  70%|██████▉   | 83/119 [05:37<02:23,  3.99s/it]"
     ]
    },
    {
     "name": "stdout",
     "output_type": "stream",
     "text": [
      "MDD S21 EO 처리 완료\n"
     ]
    },
    {
     "name": "stderr",
     "output_type": "stream",
     "text": [
      "전체 진행률:  71%|███████   | 84/119 [05:38<01:46,  3.04s/it]"
     ]
    },
    {
     "name": "stdout",
     "output_type": "stream",
     "text": [
      "MDD S22 EC 처리 완료\n"
     ]
    },
    {
     "name": "stderr",
     "output_type": "stream",
     "text": [
      "전체 진행률:  71%|███████▏  | 85/119 [05:40<01:41,  2.98s/it]"
     ]
    },
    {
     "name": "stdout",
     "output_type": "stream",
     "text": [
      "MDD S22 EO 처리 완료\n"
     ]
    },
    {
     "name": "stderr",
     "output_type": "stream",
     "text": [
      "전체 진행률:  72%|███████▏  | 86/119 [05:41<01:15,  2.28s/it]"
     ]
    },
    {
     "name": "stdout",
     "output_type": "stream",
     "text": [
      "MDD S23 EC 처리 완료\n"
     ]
    },
    {
     "name": "stderr",
     "output_type": "stream",
     "text": [
      "전체 진행률:  73%|███████▎  | 87/119 [05:46<01:34,  2.97s/it]"
     ]
    },
    {
     "name": "stdout",
     "output_type": "stream",
     "text": [
      "MDD S23 EO 처리 완료\n",
      "MDD S24 EC 처리 완료\n"
     ]
    },
    {
     "name": "stderr",
     "output_type": "stream",
     "text": [
      "전체 진행률:  75%|███████▍  | 89/119 [05:46<00:52,  1.74s/it]"
     ]
    },
    {
     "name": "stdout",
     "output_type": "stream",
     "text": [
      "MDD S24 EO 처리 완료\n"
     ]
    },
    {
     "name": "stderr",
     "output_type": "stream",
     "text": [
      "전체 진행률:  76%|███████▌  | 90/119 [05:47<00:47,  1.63s/it]"
     ]
    },
    {
     "name": "stdout",
     "output_type": "stream",
     "text": [
      "MDD S25 EC 처리 완료\n"
     ]
    },
    {
     "name": "stderr",
     "output_type": "stream",
     "text": [
      "전체 진행률:  76%|███████▋  | 91/119 [05:59<01:57,  4.20s/it]"
     ]
    },
    {
     "name": "stdout",
     "output_type": "stream",
     "text": [
      "MDD S25 EO 처리 완료\n"
     ]
    },
    {
     "name": "stderr",
     "output_type": "stream",
     "text": [
      "전체 진행률:  77%|███████▋  | 92/119 [06:04<01:57,  4.35s/it]"
     ]
    },
    {
     "name": "stdout",
     "output_type": "stream",
     "text": [
      "MDD S26 EC 처리 완료\n"
     ]
    },
    {
     "name": "stderr",
     "output_type": "stream",
     "text": [
      "전체 진행률:  78%|███████▊  | 93/119 [06:07<01:45,  4.05s/it]"
     ]
    },
    {
     "name": "stdout",
     "output_type": "stream",
     "text": [
      "MDD S26 EO 처리 완료\n",
      "MDD S27 EC 처리 완료\n"
     ]
    },
    {
     "name": "stderr",
     "output_type": "stream",
     "text": [
      "전체 진행률:  80%|███████▉  | 95/119 [06:10<01:12,  3.01s/it]"
     ]
    },
    {
     "name": "stdout",
     "output_type": "stream",
     "text": [
      "MDD S27 EO 처리 완료\n"
     ]
    },
    {
     "name": "stderr",
     "output_type": "stream",
     "text": [
      "전체 진행률:  81%|████████  | 96/119 [06:25<02:11,  5.73s/it]"
     ]
    },
    {
     "name": "stdout",
     "output_type": "stream",
     "text": [
      "MDD S28 EC 처리 완료\n"
     ]
    },
    {
     "name": "stderr",
     "output_type": "stream",
     "text": [
      "전체 진행률:  82%|████████▏ | 97/119 [06:31<02:10,  5.93s/it]"
     ]
    },
    {
     "name": "stdout",
     "output_type": "stream",
     "text": [
      "MDD S28 EO 처리 완료\n",
      "MDD S29 EC 처리 완료\n"
     ]
    },
    {
     "name": "stderr",
     "output_type": "stream",
     "text": [
      "전체 진행률:  83%|████████▎ | 99/119 [06:32<01:10,  3.52s/it]"
     ]
    },
    {
     "name": "stdout",
     "output_type": "stream",
     "text": [
      "MDD S29 EO 처리 완료\n",
      "MDD S3 EC 처리 완료\n"
     ]
    },
    {
     "name": "stderr",
     "output_type": "stream",
     "text": [
      "전체 진행률:  85%|████████▍ | 101/119 [06:37<00:57,  3.19s/it]"
     ]
    },
    {
     "name": "stdout",
     "output_type": "stream",
     "text": [
      "MDD S3 EO 처리 완료\n",
      "MDD S30 EC 처리 완료\n"
     ]
    },
    {
     "name": "stderr",
     "output_type": "stream",
     "text": [
      "전체 진행률:  87%|████████▋ | 103/119 [06:44<00:54,  3.39s/it]"
     ]
    },
    {
     "name": "stdout",
     "output_type": "stream",
     "text": [
      "MDD S30 EO 처리 완료\n",
      "MDD S31 EC 처리 완료\n",
      "MDD S31 EO 처리 완료\n"
     ]
    },
    {
     "name": "stderr",
     "output_type": "stream",
     "text": [
      "전체 진행률:  89%|████████▉ | 106/119 [06:58<00:49,  3.83s/it]"
     ]
    },
    {
     "name": "stdout",
     "output_type": "stream",
     "text": [
      "MDD S32 EC 처리 완료\n"
     ]
    },
    {
     "name": "stderr",
     "output_type": "stream",
     "text": [
      "전체 진행률:  90%|████████▉ | 107/119 [06:59<00:41,  3.47s/it]"
     ]
    },
    {
     "name": "stdout",
     "output_type": "stream",
     "text": [
      "MDD S32 EO 처리 완료\n",
      "MDD S33 EC 처리 완료\n",
      "MDD S33 EO 처리 완료\n",
      "MDD S34 EC 처리 완료\n"
     ]
    },
    {
     "name": "stderr",
     "output_type": "stream",
     "text": [
      "전체 진행률:  93%|█████████▎| 111/119 [07:05<00:20,  2.51s/it]"
     ]
    },
    {
     "name": "stdout",
     "output_type": "stream",
     "text": [
      "MDD S34 EO 처리 완료\n"
     ]
    },
    {
     "name": "stderr",
     "output_type": "stream",
     "text": [
      "전체 진행률:  94%|█████████▍| 112/119 [07:11<00:20,  2.94s/it]"
     ]
    },
    {
     "name": "stdout",
     "output_type": "stream",
     "text": [
      "MDD S4 EO 처리 완료\n"
     ]
    },
    {
     "name": "stderr",
     "output_type": "stream",
     "text": [
      "전체 진행률:  95%|█████████▍| 113/119 [07:13<00:17,  2.84s/it]"
     ]
    },
    {
     "name": "stdout",
     "output_type": "stream",
     "text": [
      "MDD S5 EC 처리 완료\n"
     ]
    },
    {
     "name": "stderr",
     "output_type": "stream",
     "text": [
      "전체 진행률:  98%|█████████▊| 117/119 [07:19<00:03,  1.88s/it]"
     ]
    },
    {
     "name": "stdout",
     "output_type": "stream",
     "text": [
      "MDD S5 EO 처리 완료\n",
      "MDD S6 EC 처리 완료\n",
      "MDD S6 EO 처리 완료\n",
      "MDD S7 EC 처리 완료\n",
      "MDD S9 EC 처리 완료\n"
     ]
    },
    {
     "name": "stderr",
     "output_type": "stream",
     "text": [
      "전체 진행률: 100%|██████████| 119/119 [07:23<00:00,  3.72s/it]"
     ]
    },
    {
     "name": "stdout",
     "output_type": "stream",
     "text": [
      "MDD S9 EO 처리 완료\n"
     ]
    },
    {
     "name": "stderr",
     "output_type": "stream",
     "text": [
      "\n"
     ]
    }
   ],
   "source": [
    "## GAF 변환 (epoched data)\n",
    "\n",
    "import os\n",
    "from tqdm import tqdm\n",
    "import numpy as np\n",
    "import matplotlib.pyplot as plt\n",
    "from pyts.image import GramianAngularField\n",
    "from concurrent.futures import ProcessPoolExecutor\n",
    "import torch\n",
    "from torchvision import transforms\n",
    "\n",
    "def process_file(file_name, trans_size=1, resized_size=(224, 224)):\n",
    "    subj_name = file_name.split('/')[-1][:-4]\n",
    "    data = pd.read_csv(file_name, index_col=0).drop(columns=['time', 'condition', 'A2'])\n",
    "    epoch_idx = data['epoch'].unique()\n",
    "    \n",
    "    for idx in epoch_idx:\n",
    "        window = data[data['epoch'] == idx].drop(columns=['epoch']).T\n",
    "        if trans_size == 1:\n",
    "            gaf = GramianAngularField(method='summation', overlapping=False)\n",
    "        else:\n",
    "            gaf = GramianAngularField(image_size=trans_size, method='summation', overlapping=False)\n",
    "\n",
    "        trans_data = gaf.fit_transform(window.sort_index()).astype(np.float32)\n",
    "\n",
    "        # min-max 정규화 (gray-scale 이미지 생성을 위해)\n",
    "        for j in range(trans_data.shape[0]):\n",
    "            min_val, max_val = np.min(trans_data[j, :, :]), np.max(trans_data[j, :, :])\n",
    "            trans_data[j, :, :] = (trans_data[j, :, :] - min_val) / (max_val - min_val)\n",
    "\n",
    "        resized_img = transforms.Resize(resized_size)(torch.from_numpy(trans_data)) # (c, h, w) 바로 resize\n",
    "        resized_img = resized_img.numpy()\n",
    "        \n",
    "        if np.isnan(resized_img).any():\n",
    "            print('NaN detected')\n",
    "            continue\n",
    "\n",
    "        np.save(f'../../images2/{gaf_save_dir}_fold/{subj_name}_{idx:03d}th_window.npy', resized_img)\n",
    "\n",
    "    return f'{subj_name} 처리 완료'\n",
    "\n",
    "def main():\n",
    "    os.makedirs(f'../../images2/{gaf_save_dir}_fold', exist_ok=True)\n",
    "    \n",
    "    # 사용할 프로세스 수 설정 (CPU 코어 수에 따라 조정 가능)\n",
    "    num_processes = 15\n",
    "\n",
    "    with ProcessPoolExecutor(max_workers=num_processes) as executor:\n",
    "        futures = [executor.submit(process_file, file_name) for file_name in filenames]\n",
    "        \n",
    "        for future in tqdm(futures, total=len(filenames), desc=\"전체 진행률\"):\n",
    "            print(future.result())\n",
    "\n",
    "if __name__ == '__main__':\n",
    "    import matplotlib\n",
    "    matplotlib.use('Agg')\n",
    "    main()"
   ]
  },
  {
   "cell_type": "markdown",
   "metadata": {},
   "source": [
    "### epochs로 나누어 지지 않은 데이터 저장"
   ]
  },
  {
   "cell_type": "code",
   "execution_count": 25,
   "metadata": {},
   "outputs": [
    {
     "name": "stderr",
     "output_type": "stream",
     "text": [
      "100%|██████████| 119/119 [00:01<00:00, 106.81it/s]\n",
      "100%|██████████| 8860/8860 [07:53<00:00, 18.70it/s]\n"
     ]
    }
   ],
   "source": [
    "# GAF 변환 (not epoched)\n",
    "\n",
    "import os\n",
    "import numpy as np\n",
    "from tqdm import tqdm\n",
    "from concurrent.futures import ProcessPoolExecutor\n",
    "from pyts.image import GramianAngularField\n",
    "import numpy as np\n",
    "import matplotlib.pyplot as plt\n",
    "import torch\n",
    "from torchvision import transforms\n",
    "\n",
    "\n",
    "def process_window(k, i, window, trans_size=1, resized_size=(224, 224)):\n",
    "    if trans_size == 1:\n",
    "        gaf = GramianAngularField(overlapping=False) \n",
    "    else:\n",
    "        gaf = GramianAngularField(image_size=trans_size, overlapping=False) # GAF using PAA for time series reduction\n",
    "\n",
    "    trans_data = gaf.fit_transform(window.T.sort_index()).astype(np.float32)\n",
    "    \n",
    "    # Min-max normalization (to create a grayscale image)\n",
    "    for j in range(trans_data.shape[0]):\n",
    "        min_val, max_val = np.min(trans_data[j, :, :]), np.max(trans_data[j, :, :])\n",
    "        trans_data[j, :, :] = (trans_data[j, :, :] - min_val) / (max_val - min_val)\n",
    "\n",
    "    resized_img = transforms.Resize(resized_size)(torch.from_numpy(trans_data)) # (c, h, w) 바로 resize\n",
    "    resized_img = resized_img.numpy()\n",
    "    \n",
    "    if np.isnan(resized_img).any():\n",
    "        print('NaN detected', k, {i + 1})\n",
    "        return\n",
    "\n",
    "    # Save the normalized data\n",
    "    np.save(f'../../images2/{gaf_save_dir}_fold/{k}_{i + 1:03d}th_window.npy', resized_img)\n",
    "\n",
    "    return f'{k} {i+1}th window 처리 완료'\n",
    "\n",
    "\n",
    "def main():\n",
    "    fold_window_dict = {}\n",
    "\n",
    "    for k in raw_df_dict:\n",
    "        fold_window_dict[k] = sliding_window(raw_df_dict[k], window_size * sfreq, overlap * sfreq)\n",
    "\n",
    "    os.makedirs(f'../../images2/{gaf_save_dir}_fold', exist_ok=True)\n",
    "\n",
    "    tasks = []\n",
    "    num_processes = 15\n",
    "\n",
    "    # Create a ProcessPoolExecutor to manage the pool of processes\n",
    "    with ProcessPoolExecutor(max_workers=num_processes) as executor:\n",
    "        for k in tqdm(fold_window_dict):\n",
    "            for i, window in enumerate(fold_window_dict[k]):\n",
    "                # Submit the processing function to the pool\n",
    "                tasks.append(executor.submit(process_window, k, i, window, trans_size=1, resized_size=(224, 224)))\n",
    "        \n",
    "        # Wait for all tasks to complete\n",
    "        for task in tqdm(tasks):\n",
    "            task.result()\n",
    "\n",
    "\n",
    "if __name__ == '__main__':\n",
    "    import matplotlib\n",
    "    matplotlib.use('Agg')\n",
    "    main()"
   ]
  },
  {
   "cell_type": "markdown",
   "metadata": {},
   "source": [
    "### 한 폴더에 저장(채널 선택)"
   ]
  },
  {
   "cell_type": "code",
   "execution_count": null,
   "metadata": {},
   "outputs": [],
   "source": [
    "# # k-fold를 위해 한번에 저장 및 채널 선택해 저장\n",
    "# fold_window_dict = {}\n",
    "# channels = ['P3', 'P4']\n",
    "\n",
    "# for k in raw_df_dict:\n",
    "#     fold_window_dict[k] = sliding_window(raw_df_dict[k], window_size * sfreq, overlap * sfreq)\n",
    "\n",
    "# os.makedirs(f'../../images2/{gaf_save_dir}_fold_{\"_\".join(channels)}', exist_ok=True)\n",
    "\n",
    "# for k in tqdm(fold_window_dict):\n",
    "#     for i, window in enumerate(fold_window_dict[k]):\n",
    "#         gaf = GramianAngularField(image_size=image_size, overlapping=False) # GAF는 PPA를 사용하여 시계열 축소\n",
    "#         trans_data = gaf.fit_transform(window[channels].T.sort_index()).astype(np.float32)\n",
    "        \n",
    "#         # min-max 정규화 (gray-scale 이미지 생성을 위해)\n",
    "#         for j in range(trans_data.shape[2]):\n",
    "#             min_val, max_val = np.min(trans_data[:, :, j]), np.max(trans_data[:, :, j])\n",
    "#             trans_data[:, :, j] = (trans_data[:, :, j] - min_val) / (max_val - min_val)\n",
    "        \n",
    "#         if np.isnan(trans_data).any():\n",
    "#             print('NaN detected', k, {i+1})\n",
    "#             continue\n",
    "\n",
    "#         # trans_data = np.transpose(trans_data, (1, 2, 0)) # (채널, 높이, 너비) -> (높이, 너비, 채널)로 변경\n",
    "\n",
    "#         np.save(f'../../images2/{gaf_save_dir}_fold_{\"_\".join(channels)}/{k}_{i+1:03d}th_window.npy', trans_data)"
   ]
  },
  {
   "cell_type": "markdown",
   "metadata": {},
   "source": [
    "## MTF 저장"
   ]
  },
  {
   "cell_type": "markdown",
   "metadata": {},
   "source": [
    "### epoch로 나누어진 데이터 저장"
   ]
  },
  {
   "cell_type": "code",
   "execution_count": null,
   "metadata": {},
   "outputs": [],
   "source": [
    "## MTF 변환 (epoched data)\n",
    "\n",
    "import os\n",
    "from tqdm import tqdm\n",
    "import numpy as np\n",
    "import matplotlib.pyplot as plt\n",
    "from pyts.image import MarkovTransitionField\n",
    "from concurrent.futures import ProcessPoolExecutor\n",
    "import torch\n",
    "from torchvision import transforms\n",
    "\n",
    "def process_file(file_name, trans_size=1, resized_size=(224, 224)):\n",
    "    subj_name = file_name.split('/')[-1][:-4]\n",
    "    data = pd.read_csv(file_name, index_col=0).drop(columns=['time', 'condition', 'A2'])\n",
    "    epoch_idx = data['epoch'].unique()\n",
    "    \n",
    "    for idx in epoch_idx:\n",
    "        window = data[data['epoch'] == idx].drop(columns=['epoch']).T\n",
    "        if trans_size == 1:\n",
    "            mtf = MarkovTransitionField(n_bins=5, overlapping=False)\n",
    "        else:\n",
    "            mtf = MarkovTransitionField(image_size=trans_size, n_bins=5, overlapping=False)\n",
    "\n",
    "        trans_data = mtf.fit_transform(window.sort_index()).astype(np.float32)\n",
    "\n",
    "        # min-max 정규화 (gray-scale 이미지 생성을 위해)\n",
    "        for j in range(trans_data.shape[0]):\n",
    "            min_val, max_val = np.min(trans_data[j, :, :]), np.max(trans_data[j, :, :])\n",
    "            trans_data[j, :, :] = (trans_data[j, :, :] - min_val) / (max_val - min_val)\n",
    "\n",
    "        resized_img = transforms.Resize(resized_size)(torch.from_numpy(trans_data)) # (c, h, w) 바로 resize\n",
    "        resized_img = resized_img.numpy()\n",
    "        \n",
    "        if np.isnan(resized_img).any():\n",
    "            print('NaN detected')\n",
    "            continue\n",
    "\n",
    "        np.save(f'../../images22/{mtf_save_dir}_fold/{subj_name}_{idx:03d}th_window.npy', resized_img)\n",
    "\n",
    "    return f'{subj_name} 처리 완료'\n",
    "\n",
    "def main():\n",
    "    os.makedirs(f'../../images2/{mtf_save_dir}_fold', exist_ok=True)\n",
    "    \n",
    "    # 사용할 프로세스 수 설정 (CPU 코어 수에 따라 조정 가능)\n",
    "    num_processes = 15\n",
    "\n",
    "    with ProcessPoolExecutor(max_workers=num_processes) as executor:\n",
    "        futures = [executor.submit(process_file, file_name) for file_name in filenames]\n",
    "        \n",
    "        for future in tqdm(futures, total=len(filenames), desc=\"전체 진행률\"):\n",
    "            print(future.result())\n",
    "\n",
    "if __name__ == '__main__':\n",
    "    import matplotlib\n",
    "    matplotlib.use('Agg')\n",
    "    main()"
   ]
  },
  {
   "cell_type": "markdown",
   "metadata": {},
   "source": [
    "### epochs로 나누어 지지 않은 데이터 저장"
   ]
  },
  {
   "cell_type": "code",
   "execution_count": null,
   "metadata": {},
   "outputs": [],
   "source": [
    "# MTF 변환 (not epoched)\n",
    "\n",
    "import os\n",
    "import numpy as np\n",
    "from tqdm import tqdm\n",
    "from concurrent.futures import ProcessPoolExecutor\n",
    "from pyts.image import MarkovTransitionField\n",
    "import numpy as np\n",
    "import matplotlib.pyplot as plt\n",
    "import torch\n",
    "from torchvision import transforms\n",
    "\n",
    "\n",
    "def process_window(k, i, window, trans_size=1, resized_size=(224, 224)):\n",
    "    if trans_size == 1:\n",
    "        mtf = MarkovTransitionField(n_bins=5, overlapping=False) \n",
    "    else:\n",
    "        mtf = MarkovTransitionField(image_size=trans_size, n_bins=5, overlapping=False)\n",
    "\n",
    "    trans_data = mtf.fit_transform(window.T.sort_index()).astype(np.float32)\n",
    "    \n",
    "    # Min-max normalization (to create a grayscale image)\n",
    "    for j in range(trans_data.shape[0]):\n",
    "        min_val, max_val = np.min(trans_data[j, :, :]), np.max(trans_data[j, :, :])\n",
    "        trans_data[j, :, :] = (trans_data[j, :, :] - min_val) / (max_val - min_val)\n",
    "\n",
    "    resized_img = transforms.Resize(resized_size)(torch.from_numpy(trans_data)) # (c, h, w) 바로 resize\n",
    "    resized_img = resized_img.numpy()\n",
    "    \n",
    "    if np.isnan(resized_img).any():\n",
    "        print('NaN detected', k, {i + 1})\n",
    "        return\n",
    "\n",
    "    # Save the normalized data\n",
    "    np.save(f'../../images2/{mtf_save_dir}_fold/{k}_{i + 1:03d}th_window.npy', resized_img)\n",
    "\n",
    "    return f'{k} 처리 완료'\n",
    "\n",
    "\n",
    "def main():\n",
    "    fold_window_dict = {}\n",
    "\n",
    "    for k in raw_df_dict:\n",
    "        fold_window_dict[k] = sliding_window(raw_df_dict[k], window_size * sfreq, overlap * sfreq)\n",
    "\n",
    "    os.makedirs(f'../../images2/{mtf_save_dir}_fold', exist_ok=True)\n",
    "\n",
    "    tasks = []\n",
    "    num_processes = 15\n",
    "\n",
    "    # Create a ProcessPoolExecutor to manage the pool of processes\n",
    "    with ProcessPoolExecutor(max_workers=num_processes) as executor:\n",
    "        for k in tqdm(fold_window_dict):\n",
    "            for i, window in enumerate(fold_window_dict[k]):\n",
    "                # Submit the processing function to the pool\n",
    "                tasks.append(executor.submit(process_window, k, i, window, trans_size=1, resized_size=(224, 224)))\n",
    "        \n",
    "        # Wait for all tasks to complete\n",
    "        for task in tqdm(tasks):\n",
    "            task.result()\n",
    "\n",
    "\n",
    "if __name__ == '__main__':\n",
    "    import matplotlib\n",
    "    matplotlib.use('Agg')\n",
    "    main()"
   ]
  },
  {
   "cell_type": "markdown",
   "metadata": {},
   "source": [
    "## Scalogram 저장"
   ]
  },
  {
   "cell_type": "code",
   "execution_count": 11,
   "metadata": {},
   "outputs": [
    {
     "name": "stderr",
     "output_type": "stream",
     "text": [
      "100%|██████████| 58/58 [00:00<00:00, 117.93it/s]\n",
      "100%|██████████| 3460/3460 [11:49<00:00,  4.88it/s]\n"
     ]
    }
   ],
   "source": [
    "# Scalogram 변환 (not epoched)\n",
    "\n",
    "import os\n",
    "import numpy as np\n",
    "from tqdm import tqdm\n",
    "from concurrent.futures import ProcessPoolExecutor\n",
    "import pywt\n",
    "\n",
    "def sliding_window(df, window_size, overlap):\n",
    "    step = window_size - overlap\n",
    "    windows = [df.iloc[i:i + window_size] for i in range(0, len(df) - window_size + 1, step)]\n",
    "    return windows\n",
    "\n",
    "def process_window(k, i, window, image_size=224, num_scales=500):\n",
    "    window = window.T.sort_index().T\n",
    "\n",
    "    # CWT 계산\n",
    "    min_freq = 1\n",
    "    max_freq = 256 // 2 # Nyquist 주파수\n",
    "    scales = np.geomspace(min_freq, max_freq, num=num_scales)\n",
    "\n",
    "    # 주파수를 scale로 변환 (Morlet 웨이블릿의 중심 주파수를 1로 가정)\n",
    "    scales = 256 / (2 * scales * np.pi)\n",
    "    \n",
    "    # 다채널 이미지를 위한 초기화\n",
    "    scalograms = np.zeros((image_size, image_size, window.shape[1]), dtype=np.float32)\n",
    "    \n",
    "    for j, channel in enumerate(window):\n",
    "        # CWT 수행\n",
    "        coef, _ = pywt.cwt(window[channel], scales, 'cmor1.5-1.0')\n",
    "        \n",
    "        # 이미지 resize\n",
    "        scalogram = np.abs(coef)\n",
    "        scalogram = np.flip(scalogram, axis=0)  # Flip vertically to have low frequencies at the bottom\n",
    "        scalogram = resize(scalogram, (image_size, image_size), mode='constant', anti_aliasing=True)\n",
    "        \n",
    "        # 그레이 스케일 이미지를 위한 min-max 정규화\n",
    "        scalogram = (scalogram - np.min(scalogram)) / (np.max(scalogram) - np.min(scalogram))\n",
    "        \n",
    "        scalograms[:, :, j] = scalogram\n",
    "    \n",
    "    scalograms = scalograms.transpose(2, 0, 1)\n",
    "    \n",
    "    if np.isnan(scalograms).any():\n",
    "        print('NaN detected', k, {i + 1})\n",
    "        return\n",
    "\n",
    "    # 이미지 저장\n",
    "    np.save(f'../../images2/{scalo_save_dir}_fold/{k}_{i + 1:03d}th_window.npy', scalograms)\n",
    "\n",
    "    return f'{k} 처리 완료'\n",
    "\n",
    "\n",
    "def main():\n",
    "    \n",
    "    fold_window_dict = {}\n",
    "\n",
    "    for k in raw_df_dict:\n",
    "        fold_window_dict[k] = sliding_window(raw_df_dict[k], int(window_size * sfreq), int(overlap * sfreq))\n",
    "\n",
    "    os.makedirs(f'../../images2/{scalo_save_dir}_fold', exist_ok=True)\n",
    "\n",
    "    tasks = []\n",
    "\n",
    "    num_processes = 16\n",
    "\n",
    "    with ProcessPoolExecutor(max_workers=num_processes) as executor:\n",
    "        for k in tqdm(fold_window_dict):\n",
    "            for i, window in enumerate(fold_window_dict[k]):\n",
    "                tasks.append(executor.submit(process_window, k, i, window))\n",
    "        \n",
    "        for task in tqdm(tasks):\n",
    "            task.result()\n",
    "\n",
    "if __name__ == '__main__':\n",
    "    from skimage.transform import resize\n",
    "    main()"
   ]
  },
  {
   "cell_type": "markdown",
   "metadata": {},
   "source": [
    "- 진폭이 +- 100uV 인 윈도우는 폐기하는 코드"
   ]
  },
  {
   "cell_type": "code",
   "execution_count": 34,
   "metadata": {},
   "outputs": [
    {
     "name": "stderr",
     "output_type": "stream",
     "text": [
      "100%|██████████| 58/58 [00:01<00:00, 30.07it/s]\n",
      "  0%|          | 13/3460 [00:03<09:16,  6.19it/s] "
     ]
    },
    {
     "name": "stdout",
     "output_type": "stream",
     "text": [
      "H S1 EC_009th_window exceeds amplitude threshold\n",
      "H S1 EC_010th_window exceeds amplitude threshold\n",
      "H S1 EC_011th_window exceeds amplitude threshold\n",
      "H S1 EC_012th_window exceeds amplitude threshold\n"
     ]
    },
    {
     "name": "stderr",
     "output_type": "stream",
     "text": [
      "  4%|▍         | 153/3460 [00:26<09:39,  5.70it/s]"
     ]
    },
    {
     "name": "stdout",
     "output_type": "stream",
     "text": [
      "H S11 EC_018th_window exceeds amplitude threshold\n",
      "H S11 EC_019th_window exceeds amplitude threshold\n"
     ]
    },
    {
     "name": "stderr",
     "output_type": "stream",
     "text": [
      "  6%|▌         | 191/3460 [00:32<10:18,  5.28it/s]"
     ]
    },
    {
     "name": "stdout",
     "output_type": "stream",
     "text": [
      "H S13 EC_001th_window exceeds amplitude threshold\n"
     ]
    },
    {
     "name": "stderr",
     "output_type": "stream",
     "text": [
      "  6%|▋         | 224/3460 [00:38<09:57,  5.42it/s]"
     ]
    },
    {
     "name": "stdout",
     "output_type": "stream",
     "text": [
      "H S13 EC_031th_window exceeds amplitude threshold\n"
     ]
    },
    {
     "name": "stderr",
     "output_type": "stream",
     "text": [
      " 14%|█▍        | 501/3460 [01:25<04:52, 10.10it/s]"
     ]
    },
    {
     "name": "stdout",
     "output_type": "stream",
     "text": [
      "H S19 EC_001th_window exceeds amplitude threshold\n",
      "H S19 EC_002th_window exceeds amplitude threshold\n",
      "H S19 EC_003th_window exceeds amplitude threshold\n"
     ]
    },
    {
     "name": "stderr",
     "output_type": "stream",
     "text": [
      " 15%|█▌        | 523/3460 [01:29<07:03,  6.93it/s]"
     ]
    },
    {
     "name": "stdout",
     "output_type": "stream",
     "text": [
      "H S19 EC_028th_window exceeds amplitude threshold\n",
      "H S19 EC_034th_window exceeds amplitude threshold\n",
      "H S19 EC_035th_window exceeds amplitude threshold\n"
     ]
    },
    {
     "name": "stderr",
     "output_type": "stream",
     "text": [
      " 15%|█▌        | 535/3460 [01:31<07:19,  6.66it/s]"
     ]
    },
    {
     "name": "stdout",
     "output_type": "stream",
     "text": [
      "H S19 EC_042th_window exceeds amplitude threshold\n"
     ]
    },
    {
     "name": "stderr",
     "output_type": "stream",
     "text": [
      " 16%|█▌        | 549/3460 [01:33<06:28,  7.49it/s]"
     ]
    },
    {
     "name": "stdout",
     "output_type": "stream",
     "text": [
      "H S19 EC_054th_window exceeds amplitude threshold\n",
      "H S2 EC_001th_window exceeds amplitude threshold\n"
     ]
    },
    {
     "name": "stderr",
     "output_type": "stream",
     "text": [
      " 21%|██        | 735/3460 [02:03<05:48,  7.83it/s]"
     ]
    },
    {
     "name": "stdout",
     "output_type": "stream",
     "text": [
      "H S22 EC_001th_window exceeds amplitude threshold\n"
     ]
    },
    {
     "name": "stderr",
     "output_type": "stream",
     "text": [
      " 24%|██▍       | 829/3460 [02:20<07:41,  5.70it/s]"
     ]
    },
    {
     "name": "stdout",
     "output_type": "stream",
     "text": [
      "H S23 EC_037th_window exceeds amplitude threshold\n"
     ]
    },
    {
     "name": "stderr",
     "output_type": "stream",
     "text": [
      " 24%|██▍       | 835/3460 [02:20<06:16,  6.97it/s]"
     ]
    },
    {
     "name": "stdout",
     "output_type": "stream",
     "text": [
      "H S23 EC_042th_window exceeds amplitude threshold\n",
      "H S23 EC_043th_window exceeds amplitude threshold\n",
      "H S23 EC_045th_window exceeds amplitude threshold\n",
      "H S23 EC_046th_window exceeds amplitude threshold\n",
      "H S23 EC_047th_window exceeds amplitude threshold\n",
      "H S23 EC_048th_window exceeds amplitude threshold\n",
      "H S23 EC_049th_window exceeds amplitude threshold\n",
      "H S23 EC_050th_window exceeds amplitude threshold\n",
      "H S23 EC_051th_window exceeds amplitude threshold\n",
      "H S23 EC_052th_window exceeds amplitude threshold\n",
      "H S23 EC_053th_window exceeds amplitude threshold\n",
      "H S23 EC_054th_window exceeds amplitude threshold\n",
      "H S23 EC_055th_window exceeds amplitude threshold\n",
      "H S23 EC_056th_window exceeds amplitude threshold\n",
      "H S23 EC_057th_window exceeds amplitude threshold\n",
      "H S23 EC_058th_window exceeds amplitude threshold\n",
      "H S23 EC_059th_window exceeds amplitude threshold\n",
      "H S23 EC_060th_window exceeds amplitude threshold\n"
     ]
    },
    {
     "name": "stderr",
     "output_type": "stream",
     "text": [
      " 26%|██▌       | 883/3460 [02:26<08:09,  5.26it/s]"
     ]
    },
    {
     "name": "stdout",
     "output_type": "stream",
     "text": [
      "H S24 EC_031th_window exceeds amplitude threshold\n",
      "H S24 EC_032th_window exceeds amplitude threshold\n"
     ]
    },
    {
     "name": "stderr",
     "output_type": "stream",
     "text": [
      " 28%|██▊       | 986/3460 [02:40<05:16,  7.82it/s]"
     ]
    },
    {
     "name": "stdout",
     "output_type": "stream",
     "text": [
      "H S26 EC_014th_window exceeds amplitude threshold\n"
     ]
    },
    {
     "name": "stderr",
     "output_type": "stream",
     "text": [
      " 40%|███▉      | 1372/3460 [03:45<04:08,  8.42it/s]"
     ]
    },
    {
     "name": "stdout",
     "output_type": "stream",
     "text": [
      "H S4 EC_037th_window exceeds amplitude threshold\n"
     ]
    },
    {
     "name": "stderr",
     "output_type": "stream",
     "text": [
      " 40%|████      | 1398/3460 [03:48<02:39, 12.94it/s]"
     ]
    },
    {
     "name": "stdout",
     "output_type": "stream",
     "text": [
      "H S5 EC_001th_window exceeds amplitude threshold\n"
     ]
    },
    {
     "name": "stderr",
     "output_type": "stream",
     "text": [
      " 41%|████      | 1412/3460 [03:50<03:28,  9.83it/s]"
     ]
    },
    {
     "name": "stdout",
     "output_type": "stream",
     "text": [
      "H S5 EC_016th_window exceeds amplitude threshold\n"
     ]
    },
    {
     "name": "stderr",
     "output_type": "stream",
     "text": [
      " 43%|████▎     | 1491/3460 [04:00<05:25,  6.04it/s]"
     ]
    },
    {
     "name": "stdout",
     "output_type": "stream",
     "text": [
      "H S6 EC_041th_window exceeds amplitude threshold\n",
      "H S6 EC_042th_window exceeds amplitude threshold\n"
     ]
    },
    {
     "name": "stderr",
     "output_type": "stream",
     "text": [
      " 45%|████▌     | 1571/3460 [04:13<06:20,  4.97it/s]"
     ]
    },
    {
     "name": "stdout",
     "output_type": "stream",
     "text": [
      "H S7 EC_058th_window exceeds amplitude threshold\n",
      "H S7 EC_059th_window exceeds amplitude threshold\n"
     ]
    },
    {
     "name": "stderr",
     "output_type": "stream",
     "text": [
      " 46%|████▌     | 1582/3460 [04:13<02:44, 11.40it/s]"
     ]
    },
    {
     "name": "stdout",
     "output_type": "stream",
     "text": [
      "H S7 EC_071th_window exceeds amplitude threshold\n"
     ]
    },
    {
     "name": "stderr",
     "output_type": "stream",
     "text": [
      " 46%|████▌     | 1598/3460 [04:15<04:00,  7.75it/s]"
     ]
    },
    {
     "name": "stdout",
     "output_type": "stream",
     "text": [
      "H S8 EC_015th_window exceeds amplitude threshold\n",
      "H S8 EC_016th_window exceeds amplitude threshold\n"
     ]
    },
    {
     "name": "stderr",
     "output_type": "stream",
     "text": [
      " 49%|████▉     | 1703/3460 [04:30<04:29,  6.51it/s]"
     ]
    },
    {
     "name": "stdout",
     "output_type": "stream",
     "text": [
      "MDD S1 EC_001th_window exceeds amplitude threshold\n",
      "MDD S1 EC_002th_window exceeds amplitude threshold\n",
      "MDD S1 EC_003th_window exceeds amplitude threshold\n"
     ]
    },
    {
     "name": "stderr",
     "output_type": "stream",
     "text": [
      " 49%|████▉     | 1709/3460 [04:30<03:09,  9.22it/s]"
     ]
    },
    {
     "name": "stdout",
     "output_type": "stream",
     "text": [
      "MDD S1 EC_005th_window exceeds amplitude threshold\n",
      "MDD S1 EC_006th_window exceeds amplitude threshold\n",
      "MDD S1 EC_008th_window exceeds amplitude threshold\n"
     ]
    },
    {
     "name": "stderr",
     "output_type": "stream",
     "text": [
      " 50%|████▉     | 1725/3460 [04:31<01:23, 20.80it/s]"
     ]
    },
    {
     "name": "stdout",
     "output_type": "stream",
     "text": [
      "MDD S1 EC_012th_window exceeds amplitude threshold\n",
      "MDD S1 EC_013th_window exceeds amplitude threshold\n",
      "MDD S1 EC_014th_window exceeds amplitude threshold\n",
      "MDD S1 EC_015th_window exceeds amplitude threshold\n",
      "MDD S1 EC_017th_window exceeds amplitude threshold\n",
      "MDD S1 EC_018th_window exceeds amplitude threshold\n",
      "MDD S1 EC_019th_window exceeds amplitude threshold\n",
      "MDD S1 EC_022th_window exceeds amplitude threshold\n",
      "MDD S1 EC_023th_window exceeds amplitude threshold\n"
     ]
    },
    {
     "name": "stderr",
     "output_type": "stream",
     "text": [
      " 50%|█████     | 1730/3460 [04:31<02:09, 13.38it/s]"
     ]
    },
    {
     "name": "stdout",
     "output_type": "stream",
     "text": [
      "MDD S1 EC_025th_window exceeds amplitude threshold\n"
     ]
    },
    {
     "name": "stderr",
     "output_type": "stream",
     "text": [
      " 50%|█████     | 1738/3460 [04:32<02:08, 13.42it/s]"
     ]
    },
    {
     "name": "stdout",
     "output_type": "stream",
     "text": [
      "MDD S1 EC_029th_window exceeds amplitude threshold\n",
      "MDD S1 EC_030th_window exceeds amplitude threshold\n"
     ]
    },
    {
     "name": "stderr",
     "output_type": "stream",
     "text": [
      " 50%|█████     | 1745/3460 [04:34<03:41,  7.73it/s]"
     ]
    },
    {
     "name": "stdout",
     "output_type": "stream",
     "text": [
      "MDD S1 EC_042th_window exceeds amplitude threshold\n",
      "MDD S1 EC_043th_window exceeds amplitude threshold\n"
     ]
    },
    {
     "name": "stderr",
     "output_type": "stream",
     "text": [
      " 51%|█████     | 1750/3460 [04:34<02:56,  9.66it/s]"
     ]
    },
    {
     "name": "stdout",
     "output_type": "stream",
     "text": [
      "MDD S1 EC_047th_window exceeds amplitude threshold\n"
     ]
    },
    {
     "name": "stderr",
     "output_type": "stream",
     "text": [
      " 51%|█████     | 1763/3460 [04:35<02:04, 13.62it/s]"
     ]
    },
    {
     "name": "stdout",
     "output_type": "stream",
     "text": [
      "MDD S1 EC_050th_window exceeds amplitude threshold\n",
      "MDD S1 EC_052th_window exceeds amplitude threshold\n",
      "MDD S1 EC_053th_window exceeds amplitude threshold\n",
      "MDD S1 EC_054th_window exceeds amplitude threshold\n",
      "MDD S1 EC_056th_window exceeds amplitude threshold\n",
      "MDD S1 EC_057th_window exceeds amplitude threshold\n",
      "MDD S1 EC_059th_window exceeds amplitude threshold\n",
      "MDD S1 EC_060th_window exceeds amplitude threshold\n"
     ]
    },
    {
     "name": "stderr",
     "output_type": "stream",
     "text": [
      " 58%|█████▊    | 1993/3460 [05:06<02:33,  9.58it/s]"
     ]
    },
    {
     "name": "stdout",
     "output_type": "stream",
     "text": [
      "MDD S14 EC_049th_window exceeds amplitude threshold\n"
     ]
    },
    {
     "name": "stderr",
     "output_type": "stream",
     "text": [
      " 58%|█████▊    | 1996/3460 [05:09<08:21,  2.92it/s]"
     ]
    },
    {
     "name": "stdout",
     "output_type": "stream",
     "text": [
      "MDD S14 EC_056th_window exceeds amplitude threshold\n",
      "MDD S15 EC_001th_window exceeds amplitude threshold\n"
     ]
    },
    {
     "name": "stderr",
     "output_type": "stream",
     "text": [
      " 58%|█████▊    | 2010/3460 [05:10<03:20,  7.24it/s]"
     ]
    },
    {
     "name": "stdout",
     "output_type": "stream",
     "text": [
      "MDD S15 EC_010th_window exceeds amplitude threshold\n"
     ]
    },
    {
     "name": "stderr",
     "output_type": "stream",
     "text": [
      " 58%|█████▊    | 2016/3460 [05:10<02:51,  8.43it/s]"
     ]
    },
    {
     "name": "stdout",
     "output_type": "stream",
     "text": [
      "MDD S15 EC_015th_window exceeds amplitude threshold\n"
     ]
    },
    {
     "name": "stderr",
     "output_type": "stream",
     "text": [
      " 58%|█████▊    | 2022/3460 [05:11<02:31,  9.46it/s]"
     ]
    },
    {
     "name": "stdout",
     "output_type": "stream",
     "text": [
      "MDD S15 EC_024th_window exceeds amplitude threshold\n"
     ]
    },
    {
     "name": "stderr",
     "output_type": "stream",
     "text": [
      " 59%|█████▉    | 2034/3460 [05:12<02:32,  9.35it/s]"
     ]
    },
    {
     "name": "stdout",
     "output_type": "stream",
     "text": [
      "MDD S15 EC_033th_window exceeds amplitude threshold\n",
      "MDD S15 EC_034th_window exceeds amplitude threshold\n"
     ]
    },
    {
     "name": "stderr",
     "output_type": "stream",
     "text": [
      " 59%|█████▉    | 2057/3460 [05:15<02:07, 10.96it/s]"
     ]
    },
    {
     "name": "stdout",
     "output_type": "stream",
     "text": [
      "MDD S15 EC_048th_window exceeds amplitude threshold\n",
      "MDD S15 EC_051th_window exceeds amplitude threshold\n"
     ]
    },
    {
     "name": "stderr",
     "output_type": "stream",
     "text": [
      " 61%|██████    | 2119/3460 [05:22<02:20,  9.58it/s]"
     ]
    },
    {
     "name": "stdout",
     "output_type": "stream",
     "text": [
      "MDD S17 EC_053th_window exceeds amplitude threshold\n",
      "MDD S17 EC_054th_window exceeds amplitude threshold\n"
     ]
    },
    {
     "name": "stderr",
     "output_type": "stream",
     "text": [
      " 62%|██████▏   | 2159/3460 [05:28<04:23,  4.94it/s]"
     ]
    },
    {
     "name": "stdout",
     "output_type": "stream",
     "text": [
      "MDD S18 EC_039th_window exceeds amplitude threshold\n"
     ]
    },
    {
     "name": "stderr",
     "output_type": "stream",
     "text": [
      " 65%|██████▍   | 2245/3460 [05:40<03:40,  5.52it/s]"
     ]
    },
    {
     "name": "stdout",
     "output_type": "stream",
     "text": [
      "MDD S2 EC_012th_window exceeds amplitude threshold\n"
     ]
    },
    {
     "name": "stderr",
     "output_type": "stream",
     "text": [
      " 65%|██████▌   | 2259/3460 [05:41<02:47,  7.16it/s]"
     ]
    },
    {
     "name": "stdout",
     "output_type": "stream",
     "text": [
      "MDD S2 EC_020th_window exceeds amplitude threshold\n"
     ]
    },
    {
     "name": "stderr",
     "output_type": "stream",
     "text": [
      " 66%|██████▌   | 2272/3460 [05:42<01:38, 12.04it/s]"
     ]
    },
    {
     "name": "stdout",
     "output_type": "stream",
     "text": [
      "MDD S2 EC_028th_window exceeds amplitude threshold\n",
      "MDD S2 EC_031th_window exceeds amplitude threshold\n",
      "MDD S2 EC_032th_window exceeds amplitude threshold\n"
     ]
    },
    {
     "name": "stderr",
     "output_type": "stream",
     "text": [
      " 66%|██████▌   | 2288/3460 [05:45<02:37,  7.43it/s]"
     ]
    },
    {
     "name": "stdout",
     "output_type": "stream",
     "text": [
      "MDD S2 EC_048th_window exceeds amplitude threshold\n",
      "MDD S2 EC_049th_window exceeds amplitude threshold\n"
     ]
    },
    {
     "name": "stderr",
     "output_type": "stream",
     "text": [
      " 66%|██████▋   | 2299/3460 [05:46<02:29,  7.79it/s]"
     ]
    },
    {
     "name": "stdout",
     "output_type": "stream",
     "text": [
      "MDD S2 EC_059th_window exceeds amplitude threshold\n",
      "MDD S20 EC_003th_window exceeds amplitude threshold\n"
     ]
    },
    {
     "name": "stderr",
     "output_type": "stream",
     "text": [
      " 67%|██████▋   | 2305/3460 [05:46<02:06,  9.10it/s]"
     ]
    },
    {
     "name": "stdout",
     "output_type": "stream",
     "text": [
      "MDD S20 EC_005th_window exceeds amplitude threshold\n",
      "MDD S20 EC_006th_window exceeds amplitude threshold\n"
     ]
    },
    {
     "name": "stderr",
     "output_type": "stream",
     "text": [
      " 67%|██████▋   | 2317/3460 [05:48<02:14,  8.52it/s]"
     ]
    },
    {
     "name": "stdout",
     "output_type": "stream",
     "text": [
      "MDD S20 EC_017th_window exceeds amplitude threshold\n",
      "MDD S20 EC_022th_window exceeds amplitude threshold\n",
      "MDD S20 EC_023th_window exceeds amplitude threshold\n"
     ]
    },
    {
     "name": "stderr",
     "output_type": "stream",
     "text": [
      " 67%|██████▋   | 2328/3460 [05:48<01:36, 11.76it/s]"
     ]
    },
    {
     "name": "stdout",
     "output_type": "stream",
     "text": [
      "MDD S20 EC_028th_window exceeds amplitude threshold\n"
     ]
    },
    {
     "name": "stderr",
     "output_type": "stream",
     "text": [
      " 67%|██████▋   | 2330/3460 [05:49<02:59,  6.29it/s]"
     ]
    },
    {
     "name": "stdout",
     "output_type": "stream",
     "text": [
      "MDD S20 EC_030th_window exceeds amplitude threshold\n"
     ]
    },
    {
     "name": "stderr",
     "output_type": "stream",
     "text": [
      " 68%|██████▊   | 2341/3460 [05:51<02:21,  7.93it/s]"
     ]
    },
    {
     "name": "stdout",
     "output_type": "stream",
     "text": [
      "MDD S20 EC_042th_window exceeds amplitude threshold\n",
      "MDD S20 EC_044th_window exceeds amplitude threshold\n"
     ]
    },
    {
     "name": "stderr",
     "output_type": "stream",
     "text": [
      " 69%|██████▉   | 2395/3460 [05:58<02:24,  7.35it/s]"
     ]
    },
    {
     "name": "stdout",
     "output_type": "stream",
     "text": [
      "MDD S21 EC_037th_window exceeds amplitude threshold\n"
     ]
    },
    {
     "name": "stderr",
     "output_type": "stream",
     "text": [
      " 70%|███████   | 2432/3460 [06:02<01:40, 10.21it/s]"
     ]
    },
    {
     "name": "stdout",
     "output_type": "stream",
     "text": [
      "MDD S22 EC_007th_window exceeds amplitude threshold\n",
      "MDD S22 EC_008th_window exceeds amplitude threshold\n"
     ]
    },
    {
     "name": "stderr",
     "output_type": "stream",
     "text": [
      " 73%|███████▎  | 2535/3460 [06:17<01:33,  9.92it/s]"
     ]
    },
    {
     "name": "stdout",
     "output_type": "stream",
     "text": [
      "MDD S23 EC_050th_window exceeds amplitude threshold\n"
     ]
    },
    {
     "name": "stderr",
     "output_type": "stream",
     "text": [
      " 76%|███████▌  | 2628/3460 [06:30<01:52,  7.36it/s]"
     ]
    },
    {
     "name": "stdout",
     "output_type": "stream",
     "text": [
      "MDD S25 EC_032th_window exceeds amplitude threshold\n"
     ]
    },
    {
     "name": "stderr",
     "output_type": "stream",
     "text": [
      " 77%|███████▋  | 2651/3460 [06:33<01:49,  7.39it/s]"
     ]
    },
    {
     "name": "stdout",
     "output_type": "stream",
     "text": [
      "MDD S25 EC_055th_window exceeds amplitude threshold\n"
     ]
    },
    {
     "name": "stderr",
     "output_type": "stream",
     "text": [
      " 78%|███████▊  | 2706/3460 [06:41<02:07,  5.91it/s]"
     ]
    },
    {
     "name": "stdout",
     "output_type": "stream",
     "text": [
      "MDD S26 EC_049th_window exceeds amplitude threshold\n"
     ]
    },
    {
     "name": "stderr",
     "output_type": "stream",
     "text": [
      " 78%|███████▊  | 2714/3460 [06:43<02:07,  5.86it/s]"
     ]
    },
    {
     "name": "stdout",
     "output_type": "stream",
     "text": [
      "MDD S27 EC_001th_window exceeds amplitude threshold\n"
     ]
    },
    {
     "name": "stderr",
     "output_type": "stream",
     "text": [
      " 79%|███████▊  | 2722/3460 [06:43<01:42,  7.17it/s]"
     ]
    },
    {
     "name": "stdout",
     "output_type": "stream",
     "text": [
      "MDD S27 EC_004th_window exceeds amplitude threshold\n"
     ]
    },
    {
     "name": "stderr",
     "output_type": "stream",
     "text": [
      " 81%|████████  | 2790/3460 [06:52<01:17,  8.69it/s]"
     ]
    },
    {
     "name": "stdout",
     "output_type": "stream",
     "text": [
      "MDD S28 EC_011th_window exceeds amplitude threshold\n"
     ]
    },
    {
     "name": "stderr",
     "output_type": "stream",
     "text": [
      " 81%|████████  | 2802/3460 [06:53<01:06,  9.83it/s]"
     ]
    },
    {
     "name": "stdout",
     "output_type": "stream",
     "text": [
      "MDD S28 EC_024th_window exceeds amplitude threshold\n"
     ]
    },
    {
     "name": "stderr",
     "output_type": "stream",
     "text": [
      " 81%|████████▏ | 2814/3460 [06:55<00:56, 11.44it/s]"
     ]
    },
    {
     "name": "stdout",
     "output_type": "stream",
     "text": [
      "MDD S28 EC_032th_window exceeds amplitude threshold\n",
      "MDD S28 EC_033th_window exceeds amplitude threshold\n"
     ]
    },
    {
     "name": "stderr",
     "output_type": "stream",
     "text": [
      " 81%|████████▏ | 2817/3460 [06:55<01:11,  9.05it/s]"
     ]
    },
    {
     "name": "stdout",
     "output_type": "stream",
     "text": [
      "MDD S28 EC_039th_window exceeds amplitude threshold\n"
     ]
    },
    {
     "name": "stderr",
     "output_type": "stream",
     "text": [
      " 82%|████████▏ | 2829/3460 [06:58<02:02,  5.14it/s]"
     ]
    },
    {
     "name": "stdout",
     "output_type": "stream",
     "text": [
      "MDD S28 EC_051th_window exceeds amplitude threshold\n",
      "MDD S28 EC_052th_window exceeds amplitude threshold\n",
      "MDD S28 EC_053th_window exceeds amplitude threshold\n",
      "MDD S28 EC_055th_window exceeds amplitude threshold\n",
      "MDD S28 EC_056th_window exceeds amplitude threshold\n"
     ]
    },
    {
     "name": "stderr",
     "output_type": "stream",
     "text": [
      " 84%|████████▍ | 2901/3460 [07:06<01:06,  8.43it/s]"
     ]
    },
    {
     "name": "stdout",
     "output_type": "stream",
     "text": [
      "MDD S3 EC_001th_window exceeds amplitude threshold\n"
     ]
    },
    {
     "name": "stderr",
     "output_type": "stream",
     "text": [
      " 88%|████████▊ | 3046/3460 [07:27<01:07,  6.14it/s]"
     ]
    },
    {
     "name": "stdout",
     "output_type": "stream",
     "text": [
      "MDD S32 EC_006th_window exceeds amplitude threshold\n",
      "MDD S32 EC_007th_window exceeds amplitude threshold\n"
     ]
    },
    {
     "name": "stderr",
     "output_type": "stream",
     "text": [
      " 88%|████████▊ | 3051/3460 [07:28<01:03,  6.42it/s]"
     ]
    },
    {
     "name": "stdout",
     "output_type": "stream",
     "text": [
      "MDD S32 EC_012th_window exceeds amplitude threshold\n",
      "MDD S32 EC_013th_window exceeds amplitude threshold\n"
     ]
    },
    {
     "name": "stderr",
     "output_type": "stream",
     "text": [
      " 90%|████████▉ | 3103/3460 [07:36<00:54,  6.56it/s]"
     ]
    },
    {
     "name": "stdout",
     "output_type": "stream",
     "text": [
      "MDD S33 EC_002th_window exceeds amplitude threshold\n"
     ]
    },
    {
     "name": "stderr",
     "output_type": "stream",
     "text": [
      " 90%|████████▉ | 3109/3460 [07:36<00:41,  8.42it/s]"
     ]
    },
    {
     "name": "stdout",
     "output_type": "stream",
     "text": [
      "MDD S33 EC_008th_window exceeds amplitude threshold\n"
     ]
    },
    {
     "name": "stderr",
     "output_type": "stream",
     "text": [
      " 90%|████████▉ | 3111/3460 [07:37<00:49,  7.12it/s]"
     ]
    },
    {
     "name": "stdout",
     "output_type": "stream",
     "text": [
      "MDD S33 EC_014th_window exceeds amplitude threshold\n",
      "MDD S33 EC_015th_window exceeds amplitude threshold\n"
     ]
    },
    {
     "name": "stderr",
     "output_type": "stream",
     "text": [
      " 90%|█████████ | 3127/3460 [07:39<00:53,  6.18it/s]"
     ]
    },
    {
     "name": "stdout",
     "output_type": "stream",
     "text": [
      "MDD S33 EC_028th_window exceeds amplitude threshold\n",
      "MDD S33 EC_029th_window exceeds amplitude threshold\n"
     ]
    },
    {
     "name": "stderr",
     "output_type": "stream",
     "text": [
      " 91%|█████████ | 3151/3460 [07:42<00:41,  7.48it/s]"
     ]
    },
    {
     "name": "stdout",
     "output_type": "stream",
     "text": [
      "MDD S33 EC_053th_window exceeds amplitude threshold\n"
     ]
    },
    {
     "name": "stderr",
     "output_type": "stream",
     "text": [
      " 91%|█████████▏| 3161/3460 [07:43<00:37,  8.06it/s]"
     ]
    },
    {
     "name": "stdout",
     "output_type": "stream",
     "text": [
      "MDD S34 EC_002th_window exceeds amplitude threshold\n"
     ]
    },
    {
     "name": "stderr",
     "output_type": "stream",
     "text": [
      " 91%|█████████▏| 3164/3460 [07:45<01:11,  4.16it/s]"
     ]
    },
    {
     "name": "stdout",
     "output_type": "stream",
     "text": [
      "MDD S34 EC_008th_window exceeds amplitude threshold\n"
     ]
    },
    {
     "name": "stderr",
     "output_type": "stream",
     "text": [
      " 92%|█████████▏| 3177/3460 [07:46<00:37,  7.49it/s]"
     ]
    },
    {
     "name": "stdout",
     "output_type": "stream",
     "text": [
      "MDD S34 EC_014th_window exceeds amplitude threshold\n",
      "MDD S34 EC_015th_window exceeds amplitude threshold\n"
     ]
    },
    {
     "name": "stderr",
     "output_type": "stream",
     "text": [
      " 92%|█████████▏| 3187/3460 [07:47<00:35,  7.70it/s]"
     ]
    },
    {
     "name": "stdout",
     "output_type": "stream",
     "text": [
      "MDD S34 EC_028th_window exceeds amplitude threshold\n",
      "MDD S34 EC_029th_window exceeds amplitude threshold\n"
     ]
    },
    {
     "name": "stderr",
     "output_type": "stream",
     "text": [
      " 93%|█████████▎| 3212/3460 [07:52<00:55,  4.44it/s]"
     ]
    },
    {
     "name": "stdout",
     "output_type": "stream",
     "text": [
      "MDD S34 EC_053th_window exceeds amplitude threshold\n"
     ]
    },
    {
     "name": "stderr",
     "output_type": "stream",
     "text": [
      " 93%|█████████▎| 3219/3460 [07:53<00:47,  5.12it/s]"
     ]
    },
    {
     "name": "stdout",
     "output_type": "stream",
     "text": [
      "MDD S5 EC_001th_window exceeds amplitude threshold\n"
     ]
    },
    {
     "name": "stderr",
     "output_type": "stream",
     "text": [
      " 93%|█████████▎| 3231/3460 [07:55<00:41,  5.52it/s]"
     ]
    },
    {
     "name": "stdout",
     "output_type": "stream",
     "text": [
      "MDD S5 EC_015th_window exceeds amplitude threshold\n",
      "MDD S5 EC_016th_window exceeds amplitude threshold\n"
     ]
    },
    {
     "name": "stderr",
     "output_type": "stream",
     "text": [
      " 97%|█████████▋| 3358/3460 [08:15<00:07, 12.76it/s]"
     ]
    },
    {
     "name": "stdout",
     "output_type": "stream",
     "text": [
      "MDD S7 EC_013th_window exceeds amplitude threshold\n",
      "MDD S7 EC_014th_window exceeds amplitude threshold\n",
      "MDD S7 EC_015th_window exceeds amplitude threshold\n",
      "MDD S7 EC_016th_window exceeds amplitude threshold\n",
      "MDD S7 EC_017th_window exceeds amplitude threshold\n"
     ]
    },
    {
     "name": "stderr",
     "output_type": "stream",
     "text": [
      " 97%|█████████▋| 3361/3460 [08:16<00:15,  6.51it/s]"
     ]
    },
    {
     "name": "stdout",
     "output_type": "stream",
     "text": [
      "MDD S7 EC_023th_window exceeds amplitude threshold\n"
     ]
    },
    {
     "name": "stderr",
     "output_type": "stream",
     "text": [
      " 98%|█████████▊| 3376/3460 [08:19<00:16,  5.02it/s]"
     ]
    },
    {
     "name": "stdout",
     "output_type": "stream",
     "text": [
      "MDD S7 EC_037th_window exceeds amplitude threshold\n"
     ]
    },
    {
     "name": "stderr",
     "output_type": "stream",
     "text": [
      " 98%|█████████▊| 3400/3460 [08:22<00:11,  5.38it/s]"
     ]
    },
    {
     "name": "stdout",
     "output_type": "stream",
     "text": [
      "MDD S7 EC_060th_window exceeds amplitude threshold\n"
     ]
    },
    {
     "name": "stderr",
     "output_type": "stream",
     "text": [
      "100%|██████████| 3460/3460 [08:31<00:00,  6.76it/s]\n"
     ]
    }
   ],
   "source": [
    "import os\n",
    "import numpy as np\n",
    "from tqdm import tqdm\n",
    "from concurrent.futures import ProcessPoolExecutor\n",
    "import pywt\n",
    "from skimage.transform import resize\n",
    "\n",
    "def sliding_window(df, window_size, overlap):\n",
    "    step = window_size - overlap\n",
    "    windows = [df.iloc[i:i + window_size] for i in range(0, len(df) - window_size + 1, step)]\n",
    "    return windows\n",
    "\n",
    "def process_window(k, i, window, image_size=224, num_scales=500):\n",
    "    window = window.T.sort_index().T\n",
    "\n",
    "    # Check if any channel exceeds the amplitude threshold\n",
    "    if np.any(np.abs(window) > 100):\n",
    "        return None, f'{k}_{i + 1:03d}th_window exceeds amplitude threshold'\n",
    "\n",
    "    # CWT 계산\n",
    "    min_freq = 1\n",
    "    max_freq = 256 // 2 # Nyquist 주파수\n",
    "    scales = np.geomspace(min_freq, max_freq, num=num_scales)\n",
    "\n",
    "    # 주파수를 scale로 변환 (Morlet 웨이블릿의 중심 주파수를 1로 가정)\n",
    "    scales = 256 / (2 * scales * np.pi)\n",
    "    \n",
    "    # 다채널 이미지를 위한 초기화\n",
    "    scalograms = np.zeros((image_size, image_size, window.shape[1]), dtype=np.float32)\n",
    "    \n",
    "    for j, channel in enumerate(window):\n",
    "        # CWT 수행\n",
    "        coef, _ = pywt.cwt(window[channel], scales, 'cmor1.5-1.0')\n",
    "        \n",
    "        # 이미지 resize\n",
    "        scalogram = np.abs(coef)\n",
    "        scalogram = np.flip(scalogram, axis=0)  # Flip vertically to have low frequencies at the bottom\n",
    "        scalogram = resize(scalogram, (image_size, image_size), mode='constant', anti_aliasing=True)\n",
    "        \n",
    "        # 그레이 스케일 이미지를 위한 min-max 정규화\n",
    "        scalogram = (scalogram - np.min(scalogram)) / (np.max(scalogram) - np.min(scalogram))\n",
    "        \n",
    "        scalograms[:, :, j] = scalogram\n",
    "    \n",
    "    scalograms = scalograms.transpose(2, 0, 1)\n",
    "    \n",
    "    if np.isnan(scalograms).any():\n",
    "        return None, f'NaN detected in {k}_{i + 1:03d}th_window'\n",
    "\n",
    "    return scalograms, f'{k}_{i + 1:03d}th_window'\n",
    "\n",
    "def main():\n",
    "    fold_window_dict = {}\n",
    "\n",
    "    for k in raw_df_dict:\n",
    "        fold_window_dict[k] = sliding_window(raw_df_dict[k], int(window_size * sfreq), int(overlap * sfreq))\n",
    "\n",
    "    os.makedirs(f'../../images2/{scalo_save_dir}_fold', exist_ok=True)\n",
    "\n",
    "    tasks = []\n",
    "\n",
    "    num_processes = 16\n",
    "\n",
    "    with ProcessPoolExecutor(max_workers=num_processes) as executor:\n",
    "        for k in tqdm(fold_window_dict):\n",
    "            for i, window in enumerate(fold_window_dict[k]):\n",
    "                tasks.append(executor.submit(process_window, k, i, window))\n",
    "        \n",
    "        for task in tqdm(tasks):\n",
    "            result, message = task.result()\n",
    "            if result is not None:\n",
    "                np.save(f'../../images2/{scalo_save_dir}_fold/{message}.npy', result)\n",
    "            else:\n",
    "                print(message)  # 진폭 초과 또는 NaN 발생 메시지 출력\n",
    "\n",
    "if __name__ == '__main__':\n",
    "    main()"
   ]
  }
 ],
 "metadata": {
  "kernelspec": {
   "display_name": "yongsik_pdc",
   "language": "python",
   "name": "python3"
  },
  "language_info": {
   "codemirror_mode": {
    "name": "ipython",
    "version": 3
   },
   "file_extension": ".py",
   "mimetype": "text/x-python",
   "name": "python",
   "nbconvert_exporter": "python",
   "pygments_lexer": "ipython3",
   "version": "3.7.16"
  }
 },
 "nbformat": 4,
 "nbformat_minor": 2
}
